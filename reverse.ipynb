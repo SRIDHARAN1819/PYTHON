{
  "nbformat": 4,
  "nbformat_minor": 0,
  "metadata": {
    "colab": {
      "name": "reverse.ipynb",
      "provenance": [],
      "authorship_tag": "ABX9TyMw4RGHphrtF0f1k1rpOvSt",
      "include_colab_link": true
    },
    "kernelspec": {
      "name": "python3",
      "display_name": "Python 3"
    },
    "language_info": {
      "name": "python"
    }
  },
  "cells": [
    {
      "cell_type": "markdown",
      "metadata": {
        "id": "view-in-github",
        "colab_type": "text"
      },
      "source": [
        "<a href=\"https://colab.research.google.com/github/SRIDHARAN1819/PYTHON/blob/main/reverse.ipynb\" target=\"_parent\"><img src=\"https://colab.research.google.com/assets/colab-badge.svg\" alt=\"Open In Colab\"/></a>"
      ]
    },
    {
      "cell_type": "code",
      "metadata": {
        "colab": {
          "base_uri": "https://localhost:8080/"
        },
        "id": "fygHRV-2zwlg",
        "outputId": "36c1980d-3f67-46f8-9079-02a565a7191c"
      },
      "source": [
        "s=\"Python programming always Simple\"\n",
        "print('Before Reversing:')\n",
        "print(s)\n",
        "word=s.split()\n",
        "r=word[::-1]\n",
        "reversed_sentence = \" \".join(r)\n",
        "print('After Reversing:')\n",
        "print(reversed_sentence)"
      ],
      "execution_count": 5,
      "outputs": [
        {
          "output_type": "stream",
          "text": [
            "Before Reversing:\n",
            "Python programming always Simple\n",
            "After Reversing:\n",
            "Simple always programming Python\n"
          ],
          "name": "stdout"
        }
      ]
    }
  ]
}