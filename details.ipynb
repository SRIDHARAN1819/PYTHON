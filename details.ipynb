{
  "nbformat": 4,
  "nbformat_minor": 0,
  "metadata": {
    "colab": {
      "name": "details.ipynb",
      "provenance": [],
      "authorship_tag": "ABX9TyN78HVnPofVnu0H26Sg7bAW",
      "include_colab_link": true
    },
    "kernelspec": {
      "name": "python3",
      "display_name": "Python 3"
    },
    "language_info": {
      "name": "python"
    }
  },
  "cells": [
    {
      "cell_type": "markdown",
      "metadata": {
        "id": "view-in-github",
        "colab_type": "text"
      },
      "source": [
        "<a href=\"https://colab.research.google.com/github/SRIDHARAN1819/PYTHON/blob/main/details.ipynb\" target=\"_parent\"><img src=\"https://colab.research.google.com/assets/colab-badge.svg\" alt=\"Open In Colab\"/></a>"
      ]
    },
    {
      "cell_type": "code",
      "metadata": {
        "colab": {
          "base_uri": "https://localhost:8080/"
        },
        "id": "fLUPvrQaxCTB",
        "outputId": "0e975fcb-102b-4201-b481-5f44497ec045"
      },
      "source": [
        "name=(input(\"Enter your Name:\")) \n",
        "\n",
        "age=(input(\"Enter your Age:\")) \n",
        "\n",
        "address=(input(\"Enter your Address:\")) \n",
        "\n",
        "salary=(input(\"Enter your Salary:\")) \n",
        "\n",
        "mbl_no=(input(\"Enter your Mobile Number:\")) \n",
        "\n",
        "print(\"Personal Details:\") \n",
        "\n",
        "print(\"NAME:\",name) \n",
        "\n",
        "print(\"AGE:\",age) \n",
        "\n",
        "print(\"ADDRESS:\",address) \n",
        "\n",
        "print(\"SALARY:\",salary) \n",
        "\n",
        "print(\"MOBILE NUMBER:\",mbl_no) "
      ],
      "execution_count": 2,
      "outputs": [
        {
          "output_type": "stream",
          "text": [
            "Enter your Name:SRIDHARAN S\n",
            "Enter your Age:18\n",
            "Enter your Address:7/14 KINATHUPALAYAM,PALLAKKA PALAYAM(PO),SALEM(D.T)\n",
            "Enter your Salary:66,000\n",
            "Enter your Mobile Number:9788907120\n",
            "Personal Details:\n",
            "NAME: SRIDHARAN S\n",
            "AGE: 18\n",
            "ADDRESS: 7/14 KINATHUPALAYAM,PALLAKKA PALAYAM(PO),SALEM(D.T)\n",
            "SALARY: 66,000\n",
            "MOBILE NUMBER: 9788907120\n"
          ],
          "name": "stdout"
        }
      ]
    }
  ]
}