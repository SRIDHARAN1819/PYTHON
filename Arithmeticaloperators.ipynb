{
  "nbformat": 4,
  "nbformat_minor": 0,
  "metadata": {
    "colab": {
      "name": "Arithmeticaloperators.ipynb",
      "provenance": [],
      "authorship_tag": "ABX9TyP52dbs7x2GC/GHoPAKhF8m",
      "include_colab_link": true
    },
    "kernelspec": {
      "name": "python3",
      "display_name": "Python 3"
    },
    "language_info": {
      "name": "python"
    }
  },
  "cells": [
    {
      "cell_type": "markdown",
      "metadata": {
        "id": "view-in-github",
        "colab_type": "text"
      },
      "source": [
        "<a href=\"https://colab.research.google.com/github/SRIDHARAN1819/PYTHON/blob/main/Arithmeticaloperators.ipynb\" target=\"_parent\"><img src=\"https://colab.research.google.com/assets/colab-badge.svg\" alt=\"Open In Colab\"/></a>"
      ]
    },
    {
      "cell_type": "code",
      "metadata": {
        "colab": {
          "base_uri": "https://localhost:8080/"
        },
        "id": "3ltadtZ64jM0",
        "outputId": "8c8776fd-254f-4a3c-cd91-f7115fa3d73c"
      },
      "source": [
        "X=int(input(\"Enter num1=\"))\n",
        "Y=int(input(\"Enter num2=\"))\n",
        "print(\"Addition=\",X+Y)\n",
        "print(\"Subtraction=\",X-Y)\n",
        "print(\"Multiplication=\",X*Y)\n",
        "print(\"Division=\",X/Y)"
      ],
      "execution_count": 2,
      "outputs": [
        {
          "output_type": "stream",
          "text": [
            "Enter num1=6 \n",
            "Enter num2=8\n",
            "Addition= 14\n",
            "Subtraction= -2\n",
            "Multiplication= 48\n",
            "Division= 0.75\n"
          ],
          "name": "stdout"
        }
      ]
    }
  ]
}