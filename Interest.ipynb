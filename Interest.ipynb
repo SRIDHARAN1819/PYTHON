{
  "nbformat": 4,
  "nbformat_minor": 0,
  "metadata": {
    "colab": {
      "name": "Interest.ipynb",
      "provenance": [],
      "authorship_tag": "ABX9TyNMsfLBXNCQcKZu6tCMt2L3",
      "include_colab_link": true
    },
    "kernelspec": {
      "name": "python3",
      "display_name": "Python 3"
    },
    "language_info": {
      "name": "python"
    }
  },
  "cells": [
    {
      "cell_type": "markdown",
      "metadata": {
        "id": "view-in-github",
        "colab_type": "text"
      },
      "source": [
        "<a href=\"https://colab.research.google.com/github/SRIDHARAN1819/PYTHON/blob/main/Interest.ipynb\" target=\"_parent\"><img src=\"https://colab.research.google.com/assets/colab-badge.svg\" alt=\"Open In Colab\"/></a>"
      ]
    },
    {
      "cell_type": "code",
      "metadata": {
        "colab": {
          "base_uri": "https://localhost:8080/"
        },
        "id": "nj8y9aJzwHyd",
        "outputId": "3da706cf-4267-44c8-e2bc-edaeebb15cf1"
      },
      "source": [
        "P=int(input(\"Enter the principal amount:\")) \n",
        "\n",
        "N=int(input(\"Enter the number of years:\")) \n",
        "\n",
        "R=int(input(\"Enter the rate of interest:\")) \n",
        "\n",
        "SI=(P*N*R)/100 \n",
        "\n",
        "print(\"Simple Interest=\",SI) "
      ],
      "execution_count": 1,
      "outputs": [
        {
          "output_type": "stream",
          "text": [
            "Enter the principal amount:1000\n",
            "Enter the number of years:2\n",
            "Enter the rate of interest:5\n",
            "Simple Interest= 100.0\n"
          ],
          "name": "stdout"
        }
      ]
    }
  ]
}